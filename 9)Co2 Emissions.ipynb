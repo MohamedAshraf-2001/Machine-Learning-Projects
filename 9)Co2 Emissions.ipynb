{
 "cells": [
  {
   "cell_type": "markdown",
   "id": "b34e6d31",
   "metadata": {},
   "source": [
    "# Fuel Consumption Co2"
   ]
  },
  {
   "cell_type": "code",
   "execution_count": 158,
   "id": "9025ccc1",
   "metadata": {},
   "outputs": [],
   "source": [
    "import numpy as np\n",
    "import pandas as pd\n",
    "import seaborn as sns\n",
    "import matplotlib.pyplot as plt "
   ]
  },
  {
   "cell_type": "markdown",
   "id": "65b74d68",
   "metadata": {},
   "source": [
    "## Dataset:"
   ]
  },
  {
   "cell_type": "code",
   "execution_count": 208,
   "id": "a72e8d59",
   "metadata": {},
   "outputs": [
    {
     "data": {
      "text/html": [
       "<div>\n",
       "<style scoped>\n",
       "    .dataframe tbody tr th:only-of-type {\n",
       "        vertical-align: middle;\n",
       "    }\n",
       "\n",
       "    .dataframe tbody tr th {\n",
       "        vertical-align: top;\n",
       "    }\n",
       "\n",
       "    .dataframe thead th {\n",
       "        text-align: right;\n",
       "    }\n",
       "</style>\n",
       "<table border=\"1\" class=\"dataframe\">\n",
       "  <thead>\n",
       "    <tr style=\"text-align: right;\">\n",
       "      <th></th>\n",
       "      <th>MODELYEAR</th>\n",
       "      <th>MAKE</th>\n",
       "      <th>MODEL</th>\n",
       "      <th>VEHICLECLASS</th>\n",
       "      <th>ENGINESIZE</th>\n",
       "      <th>CYLINDERS</th>\n",
       "      <th>TRANSMISSION</th>\n",
       "      <th>FUELTYPE</th>\n",
       "      <th>FUELCONSUMPTION_CITY</th>\n",
       "      <th>FUELCONSUMPTION_HWY</th>\n",
       "      <th>FUELCONSUMPTION_COMB</th>\n",
       "      <th>FUELCONSUMPTION_COMB_MPG</th>\n",
       "      <th>CO2EMISSIONS</th>\n",
       "    </tr>\n",
       "  </thead>\n",
       "  <tbody>\n",
       "    <tr>\n",
       "      <th>0</th>\n",
       "      <td>2014</td>\n",
       "      <td>ACURA</td>\n",
       "      <td>ILX</td>\n",
       "      <td>COMPACT</td>\n",
       "      <td>2.0</td>\n",
       "      <td>4</td>\n",
       "      <td>AS5</td>\n",
       "      <td>Z</td>\n",
       "      <td>9.9</td>\n",
       "      <td>6.7</td>\n",
       "      <td>8.5</td>\n",
       "      <td>33</td>\n",
       "      <td>196</td>\n",
       "    </tr>\n",
       "    <tr>\n",
       "      <th>1</th>\n",
       "      <td>2014</td>\n",
       "      <td>ACURA</td>\n",
       "      <td>ILX</td>\n",
       "      <td>COMPACT</td>\n",
       "      <td>2.4</td>\n",
       "      <td>4</td>\n",
       "      <td>M6</td>\n",
       "      <td>Z</td>\n",
       "      <td>11.2</td>\n",
       "      <td>7.7</td>\n",
       "      <td>9.6</td>\n",
       "      <td>29</td>\n",
       "      <td>221</td>\n",
       "    </tr>\n",
       "    <tr>\n",
       "      <th>2</th>\n",
       "      <td>2014</td>\n",
       "      <td>ACURA</td>\n",
       "      <td>ILX HYBRID</td>\n",
       "      <td>COMPACT</td>\n",
       "      <td>1.5</td>\n",
       "      <td>4</td>\n",
       "      <td>AV7</td>\n",
       "      <td>Z</td>\n",
       "      <td>6.0</td>\n",
       "      <td>5.8</td>\n",
       "      <td>5.9</td>\n",
       "      <td>48</td>\n",
       "      <td>136</td>\n",
       "    </tr>\n",
       "    <tr>\n",
       "      <th>3</th>\n",
       "      <td>2014</td>\n",
       "      <td>ACURA</td>\n",
       "      <td>MDX 4WD</td>\n",
       "      <td>SUV - SMALL</td>\n",
       "      <td>3.5</td>\n",
       "      <td>6</td>\n",
       "      <td>AS6</td>\n",
       "      <td>Z</td>\n",
       "      <td>12.7</td>\n",
       "      <td>9.1</td>\n",
       "      <td>11.1</td>\n",
       "      <td>25</td>\n",
       "      <td>255</td>\n",
       "    </tr>\n",
       "    <tr>\n",
       "      <th>4</th>\n",
       "      <td>2014</td>\n",
       "      <td>ACURA</td>\n",
       "      <td>RDX AWD</td>\n",
       "      <td>SUV - SMALL</td>\n",
       "      <td>3.5</td>\n",
       "      <td>6</td>\n",
       "      <td>AS6</td>\n",
       "      <td>Z</td>\n",
       "      <td>12.1</td>\n",
       "      <td>8.7</td>\n",
       "      <td>10.6</td>\n",
       "      <td>27</td>\n",
       "      <td>244</td>\n",
       "    </tr>\n",
       "  </tbody>\n",
       "</table>\n",
       "</div>"
      ],
      "text/plain": [
       "   MODELYEAR   MAKE       MODEL VEHICLECLASS  ENGINESIZE  CYLINDERS  \\\n",
       "0       2014  ACURA         ILX      COMPACT         2.0          4   \n",
       "1       2014  ACURA         ILX      COMPACT         2.4          4   \n",
       "2       2014  ACURA  ILX HYBRID      COMPACT         1.5          4   \n",
       "3       2014  ACURA     MDX 4WD  SUV - SMALL         3.5          6   \n",
       "4       2014  ACURA     RDX AWD  SUV - SMALL         3.5          6   \n",
       "\n",
       "  TRANSMISSION FUELTYPE  FUELCONSUMPTION_CITY  FUELCONSUMPTION_HWY  \\\n",
       "0          AS5        Z                   9.9                  6.7   \n",
       "1           M6        Z                  11.2                  7.7   \n",
       "2          AV7        Z                   6.0                  5.8   \n",
       "3          AS6        Z                  12.7                  9.1   \n",
       "4          AS6        Z                  12.1                  8.7   \n",
       "\n",
       "   FUELCONSUMPTION_COMB  FUELCONSUMPTION_COMB_MPG  CO2EMISSIONS  \n",
       "0                   8.5                        33           196  \n",
       "1                   9.6                        29           221  \n",
       "2                   5.9                        48           136  \n",
       "3                  11.1                        25           255  \n",
       "4                  10.6                        27           244  "
      ]
     },
     "execution_count": 208,
     "metadata": {},
     "output_type": "execute_result"
    }
   ],
   "source": [
    "df = pd.read_csv('FuelConsumptionCo2.csv')\n",
    "df.head()"
   ]
  },
  {
   "cell_type": "code",
   "execution_count": 209,
   "id": "a59d48c5",
   "metadata": {},
   "outputs": [
    {
     "data": {
      "text/html": [
       "<div>\n",
       "<style scoped>\n",
       "    .dataframe tbody tr th:only-of-type {\n",
       "        vertical-align: middle;\n",
       "    }\n",
       "\n",
       "    .dataframe tbody tr th {\n",
       "        vertical-align: top;\n",
       "    }\n",
       "\n",
       "    .dataframe thead th {\n",
       "        text-align: right;\n",
       "    }\n",
       "</style>\n",
       "<table border=\"1\" class=\"dataframe\">\n",
       "  <thead>\n",
       "    <tr style=\"text-align: right;\">\n",
       "      <th></th>\n",
       "      <th>MODELYEAR</th>\n",
       "      <th>MAKE</th>\n",
       "      <th>MODEL</th>\n",
       "      <th>VEHICLECLASS</th>\n",
       "      <th>ENGINESIZE</th>\n",
       "      <th>CYLINDERS</th>\n",
       "      <th>TRANSMISSION</th>\n",
       "      <th>FUELTYPE</th>\n",
       "      <th>FUELCONSUMPTION_CITY</th>\n",
       "      <th>FUELCONSUMPTION_HWY</th>\n",
       "      <th>FUELCONSUMPTION_COMB</th>\n",
       "      <th>FUELCONSUMPTION_COMB_MPG</th>\n",
       "      <th>CO2EMISSIONS</th>\n",
       "    </tr>\n",
       "  </thead>\n",
       "  <tbody>\n",
       "    <tr>\n",
       "      <th>1062</th>\n",
       "      <td>2014</td>\n",
       "      <td>VOLVO</td>\n",
       "      <td>XC60 AWD</td>\n",
       "      <td>SUV - SMALL</td>\n",
       "      <td>3.0</td>\n",
       "      <td>6</td>\n",
       "      <td>AS6</td>\n",
       "      <td>X</td>\n",
       "      <td>13.4</td>\n",
       "      <td>9.8</td>\n",
       "      <td>11.8</td>\n",
       "      <td>24</td>\n",
       "      <td>271</td>\n",
       "    </tr>\n",
       "    <tr>\n",
       "      <th>1063</th>\n",
       "      <td>2014</td>\n",
       "      <td>VOLVO</td>\n",
       "      <td>XC60 AWD</td>\n",
       "      <td>SUV - SMALL</td>\n",
       "      <td>3.2</td>\n",
       "      <td>6</td>\n",
       "      <td>AS6</td>\n",
       "      <td>X</td>\n",
       "      <td>13.2</td>\n",
       "      <td>9.5</td>\n",
       "      <td>11.5</td>\n",
       "      <td>25</td>\n",
       "      <td>264</td>\n",
       "    </tr>\n",
       "    <tr>\n",
       "      <th>1064</th>\n",
       "      <td>2014</td>\n",
       "      <td>VOLVO</td>\n",
       "      <td>XC70 AWD</td>\n",
       "      <td>SUV - SMALL</td>\n",
       "      <td>3.0</td>\n",
       "      <td>6</td>\n",
       "      <td>AS6</td>\n",
       "      <td>X</td>\n",
       "      <td>13.4</td>\n",
       "      <td>9.8</td>\n",
       "      <td>11.8</td>\n",
       "      <td>24</td>\n",
       "      <td>271</td>\n",
       "    </tr>\n",
       "    <tr>\n",
       "      <th>1065</th>\n",
       "      <td>2014</td>\n",
       "      <td>VOLVO</td>\n",
       "      <td>XC70 AWD</td>\n",
       "      <td>SUV - SMALL</td>\n",
       "      <td>3.2</td>\n",
       "      <td>6</td>\n",
       "      <td>AS6</td>\n",
       "      <td>X</td>\n",
       "      <td>12.9</td>\n",
       "      <td>9.3</td>\n",
       "      <td>11.3</td>\n",
       "      <td>25</td>\n",
       "      <td>260</td>\n",
       "    </tr>\n",
       "    <tr>\n",
       "      <th>1066</th>\n",
       "      <td>2014</td>\n",
       "      <td>VOLVO</td>\n",
       "      <td>XC90 AWD</td>\n",
       "      <td>SUV - STANDARD</td>\n",
       "      <td>3.2</td>\n",
       "      <td>6</td>\n",
       "      <td>AS6</td>\n",
       "      <td>X</td>\n",
       "      <td>14.9</td>\n",
       "      <td>10.2</td>\n",
       "      <td>12.8</td>\n",
       "      <td>22</td>\n",
       "      <td>294</td>\n",
       "    </tr>\n",
       "  </tbody>\n",
       "</table>\n",
       "</div>"
      ],
      "text/plain": [
       "      MODELYEAR   MAKE     MODEL    VEHICLECLASS  ENGINESIZE  CYLINDERS  \\\n",
       "1062       2014  VOLVO  XC60 AWD     SUV - SMALL         3.0          6   \n",
       "1063       2014  VOLVO  XC60 AWD     SUV - SMALL         3.2          6   \n",
       "1064       2014  VOLVO  XC70 AWD     SUV - SMALL         3.0          6   \n",
       "1065       2014  VOLVO  XC70 AWD     SUV - SMALL         3.2          6   \n",
       "1066       2014  VOLVO  XC90 AWD  SUV - STANDARD         3.2          6   \n",
       "\n",
       "     TRANSMISSION FUELTYPE  FUELCONSUMPTION_CITY  FUELCONSUMPTION_HWY  \\\n",
       "1062          AS6        X                  13.4                  9.8   \n",
       "1063          AS6        X                  13.2                  9.5   \n",
       "1064          AS6        X                  13.4                  9.8   \n",
       "1065          AS6        X                  12.9                  9.3   \n",
       "1066          AS6        X                  14.9                 10.2   \n",
       "\n",
       "      FUELCONSUMPTION_COMB  FUELCONSUMPTION_COMB_MPG  CO2EMISSIONS  \n",
       "1062                  11.8                        24           271  \n",
       "1063                  11.5                        25           264  \n",
       "1064                  11.8                        24           271  \n",
       "1065                  11.3                        25           260  \n",
       "1066                  12.8                        22           294  "
      ]
     },
     "execution_count": 209,
     "metadata": {},
     "output_type": "execute_result"
    }
   ],
   "source": [
    "df.tail()"
   ]
  },
  {
   "cell_type": "code",
   "execution_count": 210,
   "id": "2b96178b",
   "metadata": {},
   "outputs": [
    {
     "data": {
      "text/html": [
       "<div>\n",
       "<style scoped>\n",
       "    .dataframe tbody tr th:only-of-type {\n",
       "        vertical-align: middle;\n",
       "    }\n",
       "\n",
       "    .dataframe tbody tr th {\n",
       "        vertical-align: top;\n",
       "    }\n",
       "\n",
       "    .dataframe thead th {\n",
       "        text-align: right;\n",
       "    }\n",
       "</style>\n",
       "<table border=\"1\" class=\"dataframe\">\n",
       "  <thead>\n",
       "    <tr style=\"text-align: right;\">\n",
       "      <th></th>\n",
       "      <th>MODELYEAR</th>\n",
       "      <th>ENGINESIZE</th>\n",
       "      <th>CYLINDERS</th>\n",
       "      <th>FUELCONSUMPTION_CITY</th>\n",
       "      <th>FUELCONSUMPTION_HWY</th>\n",
       "      <th>FUELCONSUMPTION_COMB</th>\n",
       "      <th>FUELCONSUMPTION_COMB_MPG</th>\n",
       "      <th>CO2EMISSIONS</th>\n",
       "    </tr>\n",
       "  </thead>\n",
       "  <tbody>\n",
       "    <tr>\n",
       "      <th>count</th>\n",
       "      <td>1067.0</td>\n",
       "      <td>1067.000000</td>\n",
       "      <td>1067.000000</td>\n",
       "      <td>1067.000000</td>\n",
       "      <td>1067.000000</td>\n",
       "      <td>1067.000000</td>\n",
       "      <td>1067.000000</td>\n",
       "      <td>1067.000000</td>\n",
       "    </tr>\n",
       "    <tr>\n",
       "      <th>mean</th>\n",
       "      <td>2014.0</td>\n",
       "      <td>3.346298</td>\n",
       "      <td>5.794752</td>\n",
       "      <td>13.296532</td>\n",
       "      <td>9.474602</td>\n",
       "      <td>11.580881</td>\n",
       "      <td>26.441425</td>\n",
       "      <td>256.228679</td>\n",
       "    </tr>\n",
       "    <tr>\n",
       "      <th>std</th>\n",
       "      <td>0.0</td>\n",
       "      <td>1.415895</td>\n",
       "      <td>1.797447</td>\n",
       "      <td>4.101253</td>\n",
       "      <td>2.794510</td>\n",
       "      <td>3.485595</td>\n",
       "      <td>7.468702</td>\n",
       "      <td>63.372304</td>\n",
       "    </tr>\n",
       "    <tr>\n",
       "      <th>min</th>\n",
       "      <td>2014.0</td>\n",
       "      <td>1.000000</td>\n",
       "      <td>3.000000</td>\n",
       "      <td>4.600000</td>\n",
       "      <td>4.900000</td>\n",
       "      <td>4.700000</td>\n",
       "      <td>11.000000</td>\n",
       "      <td>108.000000</td>\n",
       "    </tr>\n",
       "    <tr>\n",
       "      <th>25%</th>\n",
       "      <td>2014.0</td>\n",
       "      <td>2.000000</td>\n",
       "      <td>4.000000</td>\n",
       "      <td>10.250000</td>\n",
       "      <td>7.500000</td>\n",
       "      <td>9.000000</td>\n",
       "      <td>21.000000</td>\n",
       "      <td>207.000000</td>\n",
       "    </tr>\n",
       "    <tr>\n",
       "      <th>50%</th>\n",
       "      <td>2014.0</td>\n",
       "      <td>3.400000</td>\n",
       "      <td>6.000000</td>\n",
       "      <td>12.600000</td>\n",
       "      <td>8.800000</td>\n",
       "      <td>10.900000</td>\n",
       "      <td>26.000000</td>\n",
       "      <td>251.000000</td>\n",
       "    </tr>\n",
       "    <tr>\n",
       "      <th>75%</th>\n",
       "      <td>2014.0</td>\n",
       "      <td>4.300000</td>\n",
       "      <td>8.000000</td>\n",
       "      <td>15.550000</td>\n",
       "      <td>10.850000</td>\n",
       "      <td>13.350000</td>\n",
       "      <td>31.000000</td>\n",
       "      <td>294.000000</td>\n",
       "    </tr>\n",
       "    <tr>\n",
       "      <th>max</th>\n",
       "      <td>2014.0</td>\n",
       "      <td>8.400000</td>\n",
       "      <td>12.000000</td>\n",
       "      <td>30.200000</td>\n",
       "      <td>20.500000</td>\n",
       "      <td>25.800000</td>\n",
       "      <td>60.000000</td>\n",
       "      <td>488.000000</td>\n",
       "    </tr>\n",
       "  </tbody>\n",
       "</table>\n",
       "</div>"
      ],
      "text/plain": [
       "       MODELYEAR   ENGINESIZE    CYLINDERS  FUELCONSUMPTION_CITY  \\\n",
       "count     1067.0  1067.000000  1067.000000           1067.000000   \n",
       "mean      2014.0     3.346298     5.794752             13.296532   \n",
       "std          0.0     1.415895     1.797447              4.101253   \n",
       "min       2014.0     1.000000     3.000000              4.600000   \n",
       "25%       2014.0     2.000000     4.000000             10.250000   \n",
       "50%       2014.0     3.400000     6.000000             12.600000   \n",
       "75%       2014.0     4.300000     8.000000             15.550000   \n",
       "max       2014.0     8.400000    12.000000             30.200000   \n",
       "\n",
       "       FUELCONSUMPTION_HWY  FUELCONSUMPTION_COMB  FUELCONSUMPTION_COMB_MPG  \\\n",
       "count          1067.000000           1067.000000               1067.000000   \n",
       "mean              9.474602             11.580881                 26.441425   \n",
       "std               2.794510              3.485595                  7.468702   \n",
       "min               4.900000              4.700000                 11.000000   \n",
       "25%               7.500000              9.000000                 21.000000   \n",
       "50%               8.800000             10.900000                 26.000000   \n",
       "75%              10.850000             13.350000                 31.000000   \n",
       "max              20.500000             25.800000                 60.000000   \n",
       "\n",
       "       CO2EMISSIONS  \n",
       "count   1067.000000  \n",
       "mean     256.228679  \n",
       "std       63.372304  \n",
       "min      108.000000  \n",
       "25%      207.000000  \n",
       "50%      251.000000  \n",
       "75%      294.000000  \n",
       "max      488.000000  "
      ]
     },
     "execution_count": 210,
     "metadata": {},
     "output_type": "execute_result"
    }
   ],
   "source": [
    "df.describe()"
   ]
  },
  {
   "cell_type": "code",
   "execution_count": 211,
   "id": "6e0f754c",
   "metadata": {},
   "outputs": [
    {
     "name": "stdout",
     "output_type": "stream",
     "text": [
      "<class 'pandas.core.frame.DataFrame'>\n",
      "RangeIndex: 1067 entries, 0 to 1066\n",
      "Data columns (total 13 columns):\n",
      " #   Column                    Non-Null Count  Dtype  \n",
      "---  ------                    --------------  -----  \n",
      " 0   MODELYEAR                 1067 non-null   int64  \n",
      " 1   MAKE                      1067 non-null   object \n",
      " 2   MODEL                     1067 non-null   object \n",
      " 3   VEHICLECLASS              1067 non-null   object \n",
      " 4   ENGINESIZE                1067 non-null   float64\n",
      " 5   CYLINDERS                 1067 non-null   int64  \n",
      " 6   TRANSMISSION              1067 non-null   object \n",
      " 7   FUELTYPE                  1067 non-null   object \n",
      " 8   FUELCONSUMPTION_CITY      1067 non-null   float64\n",
      " 9   FUELCONSUMPTION_HWY       1067 non-null   float64\n",
      " 10  FUELCONSUMPTION_COMB      1067 non-null   float64\n",
      " 11  FUELCONSUMPTION_COMB_MPG  1067 non-null   int64  \n",
      " 12  CO2EMISSIONS              1067 non-null   int64  \n",
      "dtypes: float64(4), int64(4), object(5)\n",
      "memory usage: 108.5+ KB\n"
     ]
    }
   ],
   "source": [
    "df.info()"
   ]
  },
  {
   "cell_type": "code",
   "execution_count": 212,
   "id": "cee4d06b",
   "metadata": {},
   "outputs": [
    {
     "data": {
      "text/plain": [
       "MODELYEAR                   0\n",
       "MAKE                        0\n",
       "MODEL                       0\n",
       "VEHICLECLASS                0\n",
       "ENGINESIZE                  0\n",
       "CYLINDERS                   0\n",
       "TRANSMISSION                0\n",
       "FUELTYPE                    0\n",
       "FUELCONSUMPTION_CITY        0\n",
       "FUELCONSUMPTION_HWY         0\n",
       "FUELCONSUMPTION_COMB        0\n",
       "FUELCONSUMPTION_COMB_MPG    0\n",
       "CO2EMISSIONS                0\n",
       "dtype: int64"
      ]
     },
     "execution_count": 212,
     "metadata": {},
     "output_type": "execute_result"
    }
   ],
   "source": [
    "df.isnull().sum()"
   ]
  },
  {
   "cell_type": "markdown",
   "id": "fa92e878",
   "metadata": {},
   "source": [
    "### Features To Extract:\n",
    "**ENGINESIZE, CYLINDERS, FUELCONSUMPTION_CITY, FUELCONSUMPTION_HWY, FUELCONSUMPTION_COMB, CO2EMISSIONS**"
   ]
  },
  {
   "cell_type": "markdown",
   "id": "9af3a79e",
   "metadata": {},
   "source": [
    "## Data Visualization:"
   ]
  },
  {
   "cell_type": "code",
   "execution_count": 213,
   "id": "539ab9b2",
   "metadata": {},
   "outputs": [],
   "source": [
    "#Feature 1: (ENGINESIZE)\n",
    "X1 = df.iloc[:, 4].values\n",
    "#Feature 2: (CYLINDERS)\n",
    "X2 = df.iloc[:, 5].values\n",
    "#Feature 3: (FUELCONSUMPTION_CITY)\n",
    "X3 = df.iloc[:, 8].values\n",
    "#Feature 4: (FUELCONSUMPTION_HWY)\n",
    "X4 = df.iloc[:, 9].values\n",
    "#Feature 5: (FUELCONSUMPTION_COMB)\n",
    "X5 = df.iloc[:, 10].values"
   ]
  },
  {
   "cell_type": "code",
   "execution_count": 214,
   "id": "ff2c4a1a",
   "metadata": {},
   "outputs": [],
   "source": [
    "#Target values: (Co2 Emissions) \n",
    "y = df.iloc[:, -1].values"
   ]
  },
  {
   "cell_type": "code",
   "execution_count": 215,
   "id": "d67da58f",
   "metadata": {},
   "outputs": [
    {
     "data": {
      "text/plain": [
       "(1067,)"
      ]
     },
     "execution_count": 215,
     "metadata": {},
     "output_type": "execute_result"
    }
   ],
   "source": [
    "X1.shape"
   ]
  },
  {
   "cell_type": "markdown",
   "id": "8a7c27b2",
   "metadata": {},
   "source": [
    "### Feature 1:"
   ]
  },
  {
   "cell_type": "code",
   "execution_count": 216,
   "id": "72c5182e",
   "metadata": {},
   "outputs": [
    {
     "data": {
      "text/plain": [
       "array([2. , 2.4, 1.5, 3.5, 3.7, 5.9, 4.7, 3. , 4. , 6.3, 4.2, 5.2, 6. ,\n",
       "       6.8, 4.4, 3.6, 1.4, 2.5, 6.2, 1.8, 4.3, 5.3, 4.8, 1.2, 5.7, 6.4,\n",
       "       4.6, 5.4, 1.6, 5. , 1. , 5.8, 3.8, 3.3, 5.6, 3.2, 6.5, 5.5, 2.1,\n",
       "       3.4, 2.7, 6.6, 6.7, 1.3, 8.4])"
      ]
     },
     "execution_count": 216,
     "metadata": {},
     "output_type": "execute_result"
    }
   ],
   "source": [
    "df['ENGINESIZE'].unique()"
   ]
  },
  {
   "cell_type": "code",
   "execution_count": 217,
   "id": "1a430dfc",
   "metadata": {},
   "outputs": [
    {
     "data": {
      "image/png": "[encoded data removed]",
      "text/plain": [
       "<Figure size 640x480 with 1 Axes>"
      ]
     },
     "metadata": {},
     "output_type": "display_data"
    }
   ],
   "source": [
    "plt.scatter(X1, y)\n",
    "plt.xlabel('ENGINESIZE')\n",
    "plt.ylabel('Co2 Emissions')\n",
    "plt.title('Feature #1')\n",
    "plt.show()"
   ]
  },
  {
   "cell_type": "markdown",
   "id": "c0c473a5",
   "metadata": {},
   "source": [
    "### Feature 2:"
   ]
  },
  {
   "cell_type": "code",
   "execution_count": 218,
   "id": "ddd6dc15",
   "metadata": {},
   "outputs": [
    {
     "data": {
      "text/plain": [
       "array([ 4,  6, 12,  8, 10,  3,  5], dtype=int64)"
      ]
     },
     "execution_count": 218,
     "metadata": {},
     "output_type": "execute_result"
    }
   ],
   "source": [
    "df['CYLINDERS'].unique()"
   ]
  },
  {
   "cell_type": "code",
   "execution_count": 219,
   "id": "8800f2ed",
   "metadata": {},
   "outputs": [
    {
     "data": {
      "image/png": "[encoded data removed]",
      "text/plain": [
       "<Figure size 640x480 with 1 Axes>"
      ]
     },
     "metadata": {},
     "output_type": "display_data"
    }
   ],
   "source": [
    "plt.scatter(X2, y)\n",
    "plt.xlabel('CYLINDERS')\n",
    "plt.ylabel('Co2 Emissions')\n",
    "plt.title('Feature #2')\n",
    "plt.show()"
   ]
  },
  {
   "cell_type": "markdown",
   "id": "4af6f232",
   "metadata": {},
   "source": [
    "### Feature 3:"
   ]
  },
  {
   "cell_type": "code",
   "execution_count": 220,
   "id": "77cd6299",
   "metadata": {},
   "outputs": [
    {
     "data": {
      "text/plain": [
       "array([ 9.9, 11.2,  6. , 12.7, 12.1, 11.9, 11.8, 12.8, 13.4, 10.6, 18. ,\n",
       "       17.4, 18.1, 11.5, 10.8, 12. ,  9.8, 13.1, 13.5, 10. , 14.7, 18.2,\n",
       "       10.1, 12.9, 10.3, 15.1, 17.6, 21.2, 18.8, 21.1, 15.3, 15.2, 13.2,\n",
       "       14.6, 13.3, 14.2, 15.4, 14.9, 10.4, 16.8, 20. , 16.7, 22.3, 10.2,\n",
       "        7.6, 11.4, 11.7,  9.2, 12.5, 14.4, 15. , 18.7, 10.5, 17.3, 16.2,\n",
       "       12.6, 16.3, 13.6, 16.4, 13.7, 14.3,  9.5, 18.4, 19.4,  9.6, 11.6,\n",
       "       12.3, 11.3, 19.7, 17. , 23.3, 25.7, 14.8, 14. ,  9.1,  8.7,  8.4,\n",
       "       13.9, 19.8, 17.1, 23.5, 18.3, 23.7, 18.6, 23.9, 25.3, 21.9, 30. ,\n",
       "       21.3, 22.1, 30.2,  9.3, 12.2, 18.9, 19.5, 19.9,  8.5,  8.9,  9.4,\n",
       "        7.7, 16. , 21.5, 12.4, 15.8, 16.1, 14.1, 15.6, 17.7, 19.2, 14.5,\n",
       "        7.9,  5.6, 24.1, 19.3, 24.9, 25.5, 20.6, 26.7, 10.9, 24.5, 15.9,\n",
       "       20.1, 20.2, 22.4, 20.4,  8.6,  7.5,  8. ,  8.8,  5.3, 13. ,  9. ,\n",
       "       11. ,  4.7,  8.1,  6.6,  8.3, 15.7,  6.5,  9.7,  8.2, 16.6, 11.1,\n",
       "       18.5, 22.8, 17.2, 25. , 24. ,  5.5,  5.8,  6.2, 17.9, 15.5, 17.8,\n",
       "        6.4,  7. , 19.1,  7.8,  7.2, 10.7, 20.5, 20.7,  6.9,  4.6, 19. ,\n",
       "       16.9, 13.8])"
      ]
     },
     "execution_count": 220,
     "metadata": {},
     "output_type": "execute_result"
    }
   ],
   "source": [
    "df['FUELCONSUMPTION_CITY'].unique()"
   ]
  },
  {
   "cell_type": "code",
   "execution_count": 221,
   "id": "38fee038",
   "metadata": {},
   "outputs": [
    {
     "data": {
      "image/png": "[encoded data removed]",
      "text/plain": [
       "<Figure size 640x480 with 1 Axes>"
      ]
     },
     "metadata": {},
     "output_type": "display_data"
    }
   ],
   "source": [
    "plt.scatter(X3, y)\n",
    "plt.xlabel('FUELCONSUMPTION_CITY')\n",
    "plt.ylabel('Co2 Emissions')\n",
    "plt.title('Feature #3')\n",
    "plt.show()"
   ]
  },
  {
   "cell_type": "markdown",
   "id": "a3c3fc48",
   "metadata": {},
   "source": [
    "### Feature 4:"
   ]
  },
  {
   "cell_type": "code",
   "execution_count": 222,
   "id": "f7320e8c",
   "metadata": {},
   "outputs": [
    {
     "data": {
      "text/plain": [
       "array([ 6.7,  7.7,  5.8,  9.1,  8.7,  8.1,  9. ,  9.5,  7.5,  8.3, 12.6,\n",
       "       11.3, 12.2,  7.4,  8.6,  6.4,  8.8,  9.7,  6.5,  8.5,  9.2,  7.6,\n",
       "       10.9,  8.4, 11. , 13.4, 13.8,  9.3,  9.8, 10.1, 11.5, 10.3, 10.6,\n",
       "       14.9,  7. ,  5.5,  7.2,  7.3,  7.9,  7.8,  8. ,  9.6,  7.1,  8.9,\n",
       "       13.7,  9.9, 10.2, 13. ,  8.2, 12.9, 12.5, 11.8, 16.1, 17.8, 10.4,\n",
       "        6.3,  5.1,  6. ,  5.6, 13.1, 13.6, 12.7, 17.7, 14.2, 18.8, 13.9,\n",
       "       18.5, 19.3, 15. , 20.4, 14.3, 20.5, 11.4, 15.1, 11.7,  6.2,  6.6,\n",
       "       11.1, 14.6,  6.8, 11.2, 10. , 13.3,  5.9, 10.8,  9.4,  6.9, 14.4,\n",
       "       19.2, 14.7, 19.6, 20. , 15.5, 18. , 10.7, 12.3, 16.7, 15.3, 17. ,\n",
       "       16.9,  5.7,  4.9,  6.1, 11.9, 12.1, 14.1, 12.8, 13.5, 12.4, 16.6,\n",
       "       14.8, 15.9, 15.7, 10.5,  5.4, 12. , 14.5,  5.2])"
      ]
     },
     "execution_count": 222,
     "metadata": {},
     "output_type": "execute_result"
    }
   ],
   "source": [
    "df['FUELCONSUMPTION_HWY'].unique()"
   ]
  },
  {
   "cell_type": "code",
   "execution_count": 223,
   "id": "22af8ca7",
   "metadata": {},
   "outputs": [
    {
     "data": {
      "image/png": "[encoded data removed]",
      "text/plain": [
       "<Figure size 640x480 with 1 Axes>"
      ]
     },
     "metadata": {},
     "output_type": "display_data"
    }
   ],
   "source": [
    "plt.scatter(X4, y)\n",
    "plt.xlabel('FUELCONSUMPTION_HWY')\n",
    "plt.ylabel('Co2 Emissions')\n",
    "plt.title('Feature #4')\n",
    "plt.show()"
   ]
  },
  {
   "cell_type": "markdown",
   "id": "61b553a4",
   "metadata": {},
   "source": [
    "### Feature 5:"
   ]
  },
  {
   "cell_type": "code",
   "execution_count": 224,
   "id": "da937af4",
   "metadata": {},
   "outputs": [
    {
     "data": {
      "text/plain": [
       "array([ 8.5,  9.6,  5.9, 11.1, 10.6, 10. , 10.1, 11.6,  9.2,  9.8, 10.4,\n",
       "       15.6, 14.7, 15.4,  8.8,  9.3, 10.2, 10.9,  8.3, 11.2, 11.3,  8.4,\n",
       "       12.5, 15.7, 10.5,  9.1, 13.2, 14.6, 17.7, 17.8, 13.3, 13.4, 12.6,\n",
       "       11.4, 12.4, 12.2, 12.9, 12.7, 10.3, 15.5, 13.9, 16.5, 14. , 19. ,\n",
       "        8.7,  6.7,  9.9,  7.9, 10.7, 13.8, 11. , 16.1, 11.9, 14.1, 12.1,\n",
       "       12.3, 11.5,  8.2,  9.5,  9. , 10.8, 12.8, 16.6, 14.8, 20.1, 16.4,\n",
       "       22.1, 11.8, 11.7, 12. ,  7.8,  7.1,  7.7, 16.2, 17. , 15.1, 15.9,\n",
       "       20.9, 21.5, 22.6, 18. , 18.8, 25.7, 18.2, 18.9, 25.8, 14.3,  8. ,\n",
       "       16.8, 16.9, 13. , 17.3,  7.5,  6.9, 18.4,  8.1, 14.4, 13.1,  8.6,\n",
       "        7.3,  7.2,  6.8,  6. , 21.9, 17.2, 22.5, 23. , 21.2, 18.3, 23.9,\n",
       "        9.4, 16. , 21.6, 16.7, 17.5, 19.7, 14.9, 20. , 19.9,  7.6,  6.6,\n",
       "        7. ,  8.9,  5.5,  4.8,  6.3,  6.2, 14.5, 15. , 18.1, 13.7, 13.5,\n",
       "       15.8,  9.7, 17.4, 21.4, 20.7,  5.6, 15.3,  7.4, 15.2, 14.2,  6.4,\n",
       "       13.6, 17.1,  5.7,  4.7,  5.4])"
      ]
     },
     "execution_count": 224,
     "metadata": {},
     "output_type": "execute_result"
    }
   ],
   "source": [
    "df['FUELCONSUMPTION_COMB'].unique()"
   ]
  },
  {
   "cell_type": "code",
   "execution_count": 225,
   "id": "a6ae2ae3",
   "metadata": {},
   "outputs": [
    {
     "data": {
      "image/png": "[encoded data removed]",
      "text/plain": [
       "<Figure size 640x480 with 1 Axes>"
      ]
     },
     "metadata": {},
     "output_type": "display_data"
    }
   ],
   "source": [
    "plt.scatter(X5, y)\n",
    "plt.xlabel('FUELCONSUMPTION_COMB')\n",
    "plt.ylabel('Co2 Emissions')\n",
    "plt.title('Feature #5')\n",
    "plt.show()"
   ]
  },
  {
   "cell_type": "markdown",
   "id": "8a81d252",
   "metadata": {},
   "source": [
    "## New DataFrame"
   ]
  },
  {
   "cell_type": "code",
   "execution_count": 226,
   "id": "4546cfde",
   "metadata": {},
   "outputs": [
    {
     "data": {
      "text/html": [
       "<div>\n",
       "<style scoped>\n",
       "    .dataframe tbody tr th:only-of-type {\n",
       "        vertical-align: middle;\n",
       "    }\n",
       "\n",
       "    .dataframe tbody tr th {\n",
       "        vertical-align: top;\n",
       "    }\n",
       "\n",
       "    .dataframe thead th {\n",
       "        text-align: right;\n",
       "    }\n",
       "</style>\n",
       "<table border=\"1\" class=\"dataframe\">\n",
       "  <thead>\n",
       "    <tr style=\"text-align: right;\">\n",
       "      <th></th>\n",
       "      <th>ENGINESIZE</th>\n",
       "      <th>CYLINDERS</th>\n",
       "      <th>FUELCONSUMPTION_CITY</th>\n",
       "      <th>FUELCONSUMPTION_HWY</th>\n",
       "      <th>FUELCONSUMPTION_COMB</th>\n",
       "      <th>CO2EMISSIONS</th>\n",
       "    </tr>\n",
       "  </thead>\n",
       "  <tbody>\n",
       "    <tr>\n",
       "      <th>0</th>\n",
       "      <td>2.0</td>\n",
       "      <td>4</td>\n",
       "      <td>9.9</td>\n",
       "      <td>6.7</td>\n",
       "      <td>8.5</td>\n",
       "      <td>196</td>\n",
       "    </tr>\n",
       "    <tr>\n",
       "      <th>1</th>\n",
       "      <td>2.4</td>\n",
       "      <td>4</td>\n",
       "      <td>11.2</td>\n",
       "      <td>7.7</td>\n",
       "      <td>9.6</td>\n",
       "      <td>221</td>\n",
       "    </tr>\n",
       "    <tr>\n",
       "      <th>2</th>\n",
       "      <td>1.5</td>\n",
       "      <td>4</td>\n",
       "      <td>6.0</td>\n",
       "      <td>5.8</td>\n",
       "      <td>5.9</td>\n",
       "      <td>136</td>\n",
       "    </tr>\n",
       "    <tr>\n",
       "      <th>3</th>\n",
       "      <td>3.5</td>\n",
       "      <td>6</td>\n",
       "      <td>12.7</td>\n",
       "      <td>9.1</td>\n",
       "      <td>11.1</td>\n",
       "      <td>255</td>\n",
       "    </tr>\n",
       "    <tr>\n",
       "      <th>4</th>\n",
       "      <td>3.5</td>\n",
       "      <td>6</td>\n",
       "      <td>12.1</td>\n",
       "      <td>8.7</td>\n",
       "      <td>10.6</td>\n",
       "      <td>244</td>\n",
       "    </tr>\n",
       "  </tbody>\n",
       "</table>\n",
       "</div>"
      ],
      "text/plain": [
       "   ENGINESIZE  CYLINDERS  FUELCONSUMPTION_CITY  FUELCONSUMPTION_HWY  \\\n",
       "0         2.0          4                   9.9                  6.7   \n",
       "1         2.4          4                  11.2                  7.7   \n",
       "2         1.5          4                   6.0                  5.8   \n",
       "3         3.5          6                  12.7                  9.1   \n",
       "4         3.5          6                  12.1                  8.7   \n",
       "\n",
       "   FUELCONSUMPTION_COMB  CO2EMISSIONS  \n",
       "0                   8.5           196  \n",
       "1                   9.6           221  \n",
       "2                   5.9           136  \n",
       "3                  11.1           255  \n",
       "4                  10.6           244  "
      ]
     },
     "execution_count": 226,
     "metadata": {},
     "output_type": "execute_result"
    }
   ],
   "source": [
    "df.drop(['MODELYEAR', 'MAKE', 'MODEL', 'VEHICLECLASS', 'TRANSMISSION', 'FUELTYPE', 'FUELCONSUMPTION_COMB_MPG'], axis = 1, inplace = True)\n",
    "df.head()"
   ]
  },
  {
   "cell_type": "code",
   "execution_count": 227,
   "id": "05933556",
   "metadata": {},
   "outputs": [
    {
     "data": {
      "text/plain": [
       "(1067, 5)"
      ]
     },
     "execution_count": 227,
     "metadata": {},
     "output_type": "execute_result"
    }
   ],
   "source": [
    "X = df.iloc[:, 0:-1].values\n",
    "X.shape"
   ]
  },
  {
   "cell_type": "code",
   "execution_count": 228,
   "id": "595e94ef",
   "metadata": {},
   "outputs": [],
   "source": [
    "from sklearn.model_selection import train_test_split\n",
    "X_train, X_test, y_train, y_test = train_test_split(X, y, test_size = 0.3, random_state=0)"
   ]
  },
  {
   "cell_type": "code",
   "execution_count": 229,
   "id": "83c8a4fa",
   "metadata": {},
   "outputs": [
    {
     "name": "stdout",
     "output_type": "stream",
     "text": [
      "[[ 2.4  4.  11.3  8.3 10. ]\n",
      " [ 3.6  6.  18.3 12.6 15.7]\n",
      " [ 5.3  8.  18.  13.4 15.9]\n",
      " ...\n",
      " [ 3.7  6.  13.5  9.6 11.7]\n",
      " [ 5.   8.  15.8 10.2 13.3]\n",
      " [ 3.7  6.  13.1  9.3 11.4]] (746, 5)\n"
     ]
    }
   ],
   "source": [
    "print(X_train, X_train.shape)"
   ]
  },
  {
   "cell_type": "code",
   "execution_count": 230,
   "id": "4a860da4",
   "metadata": {},
   "outputs": [],
   "source": [
    "from sklearn.preprocessing import StandardScaler\n",
    "\n",
    "scaler = StandardScaler()\n",
    "\n",
    "X_train = scaler.fit_transform(X_train)\n",
    "X_test  = scaler.transform(X_test)"
   ]
  },
  {
   "cell_type": "code",
   "execution_count": 231,
   "id": "d4198868",
   "metadata": {},
   "outputs": [
    {
     "data": {
      "text/plain": [
       "array([[-0.68, -1.  , -0.51, -0.44, -0.48],\n",
       "       [ 0.17,  0.1 ,  1.21,  1.09,  1.16],\n",
       "       [ 1.38,  1.21,  1.13,  1.37,  1.22],\n",
       "       ...,\n",
       "       [ 0.24,  0.1 ,  0.03,  0.02,  0.01],\n",
       "       [ 1.17,  1.21,  0.59,  0.23,  0.47],\n",
       "       [ 0.24,  0.1 , -0.07, -0.09, -0.08]])"
      ]
     },
     "execution_count": 231,
     "metadata": {},
     "output_type": "execute_result"
    }
   ],
   "source": [
    "X_train"
   ]
  },
  {
   "cell_type": "code",
   "execution_count": 241,
   "id": "d153d665",
   "metadata": {},
   "outputs": [
    {
     "data": {
      "text/plain": [
       "LinearRegression()"
      ]
     },
     "execution_count": 241,
     "metadata": {},
     "output_type": "execute_result"
    }
   ],
   "source": [
    "from sklearn.metrics import mean_squared_error\n",
    "\n",
    "from sklearn.preprocessing import PolynomialFeatures\n",
    "\n",
    "poly_reg = PolynomialFeatures(degree = 2)\n",
    "X_poly = poly_reg.fit_transform(X_train)\n",
    "lin_reg = LinearRegression()\n",
    "lin_reg.fit(X_poly, y_train)"
   ]
  },
  {
   "cell_type": "code",
   "execution_count": 242,
   "id": "962f7746",
   "metadata": {},
   "outputs": [
    {
     "data": {
      "text/plain": [
       "437.39903148291927"
      ]
     },
     "execution_count": 242,
     "metadata": {},
     "output_type": "execute_result"
    }
   ],
   "source": [
    "y_pred = lin_reg.predict(poly_reg.fit_transform(X_test))\n",
    "mse = mean_squared_error(y_test, y_pred)\n",
    "mse"
   ]
  },
  {
   "cell_type": "code",
   "execution_count": 234,
   "id": "26596477",
   "metadata": {},
   "outputs": [],
   "source": [
    "from sklearn.ensemble import RandomForestRegressor"
   ]
  },
  {
   "cell_type": "code",
   "execution_count": 235,
   "id": "a0911543",
   "metadata": {},
   "outputs": [],
   "source": [
    "model = RandomForestRegressor()\n",
    "model.fit(X_train, y_train)\n",
    "y_hat_train = model.predict(X_train)\n",
    "y_hat_test  = model.predict(X_test)"
   ]
  },
  {
   "cell_type": "code",
   "execution_count": 236,
   "id": "8fce93f4",
   "metadata": {},
   "outputs": [],
   "source": [
    "#Root Mean Squared Error\n",
    "mse_train = np.sqrt(mean_squared_error(y_hat_train, y_train))\n",
    "mse_test = np.sqrt(mean_squared_error(y_hat_test, y_test))"
   ]
  },
  {
   "cell_type": "code",
   "execution_count": 237,
   "id": "3c892970",
   "metadata": {},
   "outputs": [
    {
     "name": "stdout",
     "output_type": "stream",
     "text": [
      "[[353.52 356.  ]\n",
      " [209.37 209.  ]\n",
      " [230.   230.  ]\n",
      " [214.1  212.  ]\n",
      " [183.24 168.  ]\n",
      " [292.   292.  ]\n",
      " [212.01 212.  ]\n",
      " [277.16 276.  ]\n",
      " [201.99 202.  ]\n",
      " [331.43 334.  ]\n",
      " [309.49 313.  ]\n",
      " [435.96 437.  ]\n",
      " [216.53 224.  ]\n",
      " [280.59 281.  ]\n",
      " [175.34 177.  ]\n",
      " [260.64 260.  ]\n",
      " [410.88 414.  ]\n",
      " [222.9  223.  ]\n",
      " [260.88 251.  ]\n",
      " [361.7  359.  ]\n",
      " [191.12 191.  ]\n",
      " [192.66 189.  ]\n",
      " [244.39 244.  ]\n",
      " [243.61 242.  ]\n",
      " [130.81 131.  ]\n",
      " [282.16 283.  ]\n",
      " [274.07 274.  ]\n",
      " [295.08 294.  ]\n",
      " [246.66 246.  ]\n",
      " [117.53 110.  ]\n",
      " [358.57 359.  ]\n",
      " [241.6  239.  ]\n",
      " [233.31 229.  ]\n",
      " [236.69 237.  ]\n",
      " [191.12 191.  ]\n",
      " [196.   196.  ]\n",
      " [293.41 294.  ]\n",
      " [221.04 221.  ]\n",
      " [209.87 237.  ]\n",
      " [237.82 237.  ]\n",
      " [184.4  184.  ]\n",
      " [183.74 184.  ]\n",
      " [201.88 202.  ]\n",
      " [171.01 194.  ]\n",
      " [297.07 297.  ]\n",
      " [197.97 198.  ]\n",
      " [259.88 260.  ]\n",
      " [178.98 179.  ]\n",
      " [344.   344.  ]\n",
      " [358.43 359.  ]\n",
      " [338.33 338.  ]\n",
      " [282.3  288.  ]\n",
      " [290.15 290.  ]\n",
      " [130.67 129.  ]\n",
      " [230.   230.  ]\n",
      " [178.98 179.  ]\n",
      " [280.94 283.  ]\n",
      " [160.88 159.  ]\n",
      " [258.06 258.  ]\n",
      " [209.37 209.  ]\n",
      " [207.   207.  ]\n",
      " [204.64 205.  ]\n",
      " [225.   225.  ]\n",
      " [295.08 294.  ]\n",
      " [262.   262.  ]\n",
      " [298.9  299.  ]\n",
      " [353.87 354.  ]\n",
      " [232.9  230.  ]\n",
      " [207.   207.  ]\n",
      " [130.17 124.  ]\n",
      " [304.5  304.  ]\n",
      " [190.54 189.  ]\n",
      " [354.17 354.  ]\n",
      " [302.38 270.  ]\n",
      " [338.05 338.  ]\n",
      " [216.   216.  ]\n",
      " [283.   283.  ]\n",
      " [178.88 179.  ]\n",
      " [233.85 235.  ]\n",
      " [171.01 166.  ]\n",
      " [185.98 186.  ]\n",
      " [253.02 253.  ]\n",
      " [161.16 161.  ]\n",
      " [306.91 334.  ]\n",
      " [374.52 407.  ]\n",
      " [245.94 246.  ]\n",
      " [190.98 191.  ]\n",
      " [173.05 172.  ]\n",
      " [369.61 290.  ]\n",
      " [262.01 258.  ]\n",
      " [262.06 262.  ]\n",
      " [209.   209.  ]\n",
      " [258.63 283.  ]\n",
      " [340.02 342.  ]\n",
      " [355.11 356.  ]\n",
      " [365.52 368.  ]\n",
      " [178.43 168.  ]\n",
      " [221.06 221.  ]\n",
      " [368.63 368.  ]\n",
      " [262.08 262.  ]\n",
      " [182.4  182.  ]\n",
      " [319.8  320.  ]\n",
      " [130.32 126.  ]\n",
      " [174.42 166.  ]\n",
      " [201.99 202.  ]\n",
      " [195.97 196.  ]\n",
      " [200.   200.  ]\n",
      " [288.27 288.  ]\n",
      " [191.   191.  ]\n",
      " [258.97 259.  ]\n",
      " [213.96 214.  ]\n",
      " [222.71 228.  ]\n",
      " [268.9  269.  ]\n",
      " [311.3  317.  ]\n",
      " [326.06 327.  ]\n",
      " [294.61 294.  ]\n",
      " [291.77 292.  ]\n",
      " [253.02 244.  ]\n",
      " [368.18 361.  ]\n",
      " [199.9  200.  ]\n",
      " [257.94 258.  ]\n",
      " [191.14 191.  ]\n",
      " [380.82 382.  ]\n",
      " [146.6  147.  ]\n",
      " [178.98 179.  ]\n",
      " [309.16 310.  ]\n",
      " [243.26 229.  ]\n",
      " [243.89 237.  ]\n",
      " [291.82 292.  ]\n",
      " [264.19 264.  ]\n",
      " [230.4  230.  ]\n",
      " [293.07 294.  ]\n",
      " [184.6  184.  ]\n",
      " [139.19 136.  ]\n",
      " [344.   344.  ]\n",
      " [367.92 373.  ]\n",
      " [283.   283.  ]\n",
      " [117.53 110.  ]\n",
      " [198.   198.  ]\n",
      " [232.32 232.  ]\n",
      " [262.02 262.  ]\n",
      " [191.12 191.  ]\n",
      " [340.02 342.  ]\n",
      " [365.52 368.  ]\n",
      " [188.94 189.  ]\n",
      " [175.45 175.  ]\n",
      " [286.01 285.  ]\n",
      " [344.66 345.  ]\n",
      " [300.4  301.  ]\n",
      " [138.23 138.  ]\n",
      " [178.98 179.  ]\n",
      " [251.22 251.  ]\n",
      " [161.23 161.  ]\n",
      " [236.63 235.  ]\n",
      " [309.77 310.  ]\n",
      " [244.35 242.  ]\n",
      " [292.61 292.  ]\n",
      " [221.08 221.  ]\n",
      " [324.16 324.  ]\n",
      " [236.96 235.  ]\n",
      " [177.02 177.  ]\n",
      " [209.   209.  ]\n",
      " [177.   177.  ]\n",
      " [211.02 202.  ]\n",
      " [241.99 242.  ]\n",
      " [204.82 205.  ]\n",
      " [265.09 264.  ]\n",
      " [184.   184.  ]\n",
      " [342.39 400.  ]\n",
      " [334.9  334.  ]\n",
      " [259.98 260.  ]\n",
      " [285.   285.  ]\n",
      " [236.32 235.  ]\n",
      " [300.15 301.  ]\n",
      " [279.89 281.  ]\n",
      " [275.   276.  ]\n",
      " [264.18 265.  ]\n",
      " [242.   242.  ]\n",
      " [184.   184.  ]\n",
      " [344.91 345.  ]\n",
      " [292.68 292.  ]\n",
      " [183.96 184.  ]\n",
      " [317.   317.  ]\n",
      " [199.9  200.  ]\n",
      " [315.38 347.  ]\n",
      " [290.07 290.  ]\n",
      " [204.84 205.  ]\n",
      " [353.1  350.  ]\n",
      " [184.   184.  ]\n",
      " [290.69 290.  ]\n",
      " [267.1  267.  ]\n",
      " [270.95 271.  ]\n",
      " [239.45 239.  ]\n",
      " [231.97 232.  ]\n",
      " [217.91 218.  ]\n",
      " [271.69 269.  ]\n",
      " [227.99 228.  ]\n",
      " [216.   216.  ]\n",
      " [254.8  255.  ]\n",
      " [317.   317.  ]\n",
      " [260.   260.  ]\n",
      " [225.   225.  ]\n",
      " [222.9  223.  ]\n",
      " [328.62 329.  ]\n",
      " [291.13 290.  ]\n",
      " [289.3  288.  ]\n",
      " [294.37 294.  ]\n",
      " [257.94 258.  ]\n",
      " [380.06 380.  ]\n",
      " [197.96 198.  ]\n",
      " [221.06 221.  ]\n",
      " [191.   191.  ]\n",
      " [184.   184.  ]\n",
      " [183.96 184.  ]\n",
      " [290.15 290.  ]\n",
      " [350.48 347.  ]\n",
      " [244.37 244.  ]\n",
      " [217.91 218.  ]\n",
      " [170.03 170.  ]\n",
      " [269.84 267.  ]\n",
      " [400.52 389.  ]\n",
      " [137.07 138.  ]\n",
      " [217.97 218.  ]\n",
      " [198.21 198.  ]\n",
      " [302.74 280.  ]\n",
      " [196.54 196.  ]\n",
      " [237.35 237.  ]\n",
      " [255.1  255.  ]\n",
      " [260.31 242.  ]\n",
      " [178.28 168.  ]\n",
      " [217.95 218.  ]\n",
      " [245.94 246.  ]\n",
      " [250.12 250.  ]\n",
      " [185.36 186.  ]\n",
      " [171.57 172.  ]\n",
      " [316.84 315.  ]\n",
      " [241.35 239.  ]\n",
      " [410.05 413.  ]\n",
      " [217.92 214.  ]\n",
      " [260.02 260.  ]\n",
      " [244.49 246.  ]\n",
      " [251.06 246.  ]\n",
      " [263.98 264.  ]\n",
      " [264.37 264.  ]\n",
      " [166.46 163.  ]\n",
      " [317.   317.  ]\n",
      " [253.82 254.  ]\n",
      " [291.82 292.  ]\n",
      " [380.06 380.  ]\n",
      " [297.23 299.  ]\n",
      " [230.12 230.  ]\n",
      " [181.95 186.  ]\n",
      " [216.16 216.  ]\n",
      " [234.1  232.  ]\n",
      " [244.08 244.  ]\n",
      " [202.01 202.  ]\n",
      " [270.98 271.  ]\n",
      " [249.59 170.  ]\n",
      " [225.15 225.  ]\n",
      " [232.02 162.  ]\n",
      " [300.4  301.  ]\n",
      " [225.15 225.  ]\n",
      " [264.   264.  ]\n",
      " [213.98 214.  ]\n",
      " [350.47 346.  ]\n",
      " [212.   212.  ]\n",
      " [201.91 191.  ]\n",
      " [244.37 244.  ]\n",
      " [250.02 242.  ]\n",
      " [196.   196.  ]\n",
      " [207.02 207.  ]\n",
      " [211.43 212.  ]\n",
      " [282.3  288.  ]\n",
      " [374.41 382.  ]\n",
      " [293.41 294.  ]\n",
      " [235.84 267.  ]\n",
      " [236.68 235.  ]\n",
      " [235.03 235.  ]\n",
      " [357.66 322.  ]\n",
      " [196.04 196.  ]\n",
      " [232.04 230.  ]\n",
      " [259.34 259.  ]\n",
      " [160.66 159.  ]\n",
      " [302.84 224.  ]\n",
      " [216.31 216.  ]\n",
      " [233.85 235.  ]\n",
      " [296.8  297.  ]\n",
      " [174.75 181.  ]\n",
      " [380.82 382.  ]\n",
      " [239.7  239.  ]\n",
      " [377.95 377.  ]\n",
      " [293.1  294.  ]\n",
      " [222.9  223.  ]\n",
      " [212.01 212.  ]\n",
      " [428.69 435.  ]\n",
      " [229.01 228.  ]\n",
      " [196.   230.  ]\n",
      " [209.   209.  ]\n",
      " [295.08 294.  ]\n",
      " [232.02 232.  ]\n",
      " [295.08 294.  ]\n",
      " [253.   253.  ]\n",
      " [241.97 239.  ]\n",
      " [216.18 216.  ]\n",
      " [170.33 168.  ]\n",
      " [232.06 222.  ]\n",
      " [192.89 193.  ]\n",
      " [283.   283.  ]\n",
      " [185.62 186.  ]\n",
      " [340.   340.  ]\n",
      " [206.97 207.  ]\n",
      " [193.07 193.  ]\n",
      " [251.44 251.  ]\n",
      " [226.82 209.  ]\n",
      " [322.07 327.  ]\n",
      " [273.41 271.  ]\n",
      " [360.25 354.  ]\n",
      " [258.02 258.  ]\n",
      " [267.04 267.  ]\n",
      " [296.79 297.  ]\n",
      " [274.06 271.  ]]\n"
     ]
    }
   ],
   "source": [
    "np.set_printoptions(precision=2)\n",
    "print(np.concatenate((y_hat_test.reshape(len(y_hat_test),1), y_test.reshape(len(y_test),1)),1))"
   ]
  },
  {
   "cell_type": "code",
   "execution_count": 238,
   "id": "93f8e1a6",
   "metadata": {},
   "outputs": [
    {
     "name": "stdout",
     "output_type": "stream",
     "text": [
      "Training loss: 4.677324156897007, Test loss: 11.146478534103597\n"
     ]
    }
   ],
   "source": [
    "print(f'Training loss: {mse_train}, Test loss: {mse_test}')"
   ]
  },
  {
   "cell_type": "code",
   "execution_count": 239,
   "id": "401f9994",
   "metadata": {},
   "outputs": [],
   "source": [
    "from sklearn.model_selection import cross_val_score\n",
    "\n",
    "val_scores = cross_val_score(model,X_train,y_train,cv=5,scoring='r2')"
   ]
  },
  {
   "cell_type": "code",
   "execution_count": 240,
   "id": "67a53679",
   "metadata": {},
   "outputs": [
    {
     "name": "stdout",
     "output_type": "stream",
     "text": [
      "[0.97 0.98 0.99 0.97 0.98]\n"
     ]
    }
   ],
   "source": [
    "val_scores = np.sqrt(val_scores)\n",
    "print(val_scores)"
   ]
  },
  {
   "cell_type": "code",
   "execution_count": null,
   "id": "e6231d69",
   "metadata": {},
   "outputs": [],
   "source": []
  },
  {
   "cell_type": "code",
   "execution_count": null,
   "id": "79666d5b",
   "metadata": {},
   "outputs": [],
   "source": []
  }
 ],
 "metadata": {
  "kernelspec": {
   "display_name": "Python 3 (ipykernel)",
   "language": "python",
   "name": "python3"
  },
  "language_info": {
   "codemirror_mode": {
    "name": "ipython",
    "version": 3
   },
   "file_extension": ".py",
   "mimetype": "text/x-python",
   "name": "python",
   "nbconvert_exporter": "python",
   "pygments_lexer": "ipython3",
   "version": "3.7.8"
  }
 },
 "nbformat": 4,
 "nbformat_minor": 5
}
